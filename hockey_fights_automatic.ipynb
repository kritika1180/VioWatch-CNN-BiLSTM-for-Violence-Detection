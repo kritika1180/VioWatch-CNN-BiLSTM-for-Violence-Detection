{
  "metadata": {
    "language_info": {
      "codemirror_mode": {
        "name": "ipython",
        "version": 3
      },
      "file_extension": ".py",
      "mimetype": "text/x-python",
      "name": "python",
      "nbconvert_exporter": "python",
      "pygments_lexer": "ipython3",
      "version": "3.7.3"
    },
    "orig_nbformat": 2,
    "kernelspec": {
      "name": "python373jvsc74a57bd09164a3399a70d355c381b62813f30880ed90ca5a6f321bf0d85375640bda7ee5",
      "display_name": "Python 3.7.3 64-bit"
    },
    "metadata": {
      "interpreter": {
        "hash": "9164a3399a70d355c381b62813f30880ed90ca5a6f321bf0d85375640bda7ee5"
      }
    },
    "colab": {
      "provenance": []
    }
  },
  "nbformat": 4,
  "nbformat_minor": 0,
  "cells": [
    {
      "cell_type": "code",
      "source": [
        "! apt install aria2"
      ],
      "metadata": {
        "id": "GzLAmreY0b2j"
      },
      "execution_count": null,
      "outputs": []
    },
    {
      "cell_type": "code",
      "source": [
        "! aria2c 'magnet:?xt=urn:btih:38d9ed996a5a75a039b84cf8a137be794e7cee89&tr=https%3A%2F%2Facademictorrents.com%2Fannounce.php&tr=udp%3A%2F%2Ftracker.coppersurfer.tk%3A6969&tr=udp%3A%2F%2Ftracker.opentrackr.org%3A1337%2Fannounce'"
      ],
      "metadata": {
        "id": "ef_JmeDMxw1C"
      },
      "execution_count": null,
      "outputs": []
    },
    {
      "cell_type": "code",
      "source": [
        "! mkdir hockey\n",
        "! mv HockeyFights.zip hockey\n",
        "! cd hockey && unzip HockeyFights.zip"
      ],
      "metadata": {
        "id": "fA8i-2sx15ir"
      },
      "execution_count": null,
      "outputs": []
    },
    {
      "cell_type": "code",
      "source": [
        "! mkdir -p ./Hockey_fights/{Dataframes,Violence,Non-violence}"
      ],
      "metadata": {
        "id": "7niKzuIh3MSW"
      },
      "execution_count": null,
      "outputs": []
    },
    {
      "cell_type": "code",
      "source": [
        "! mv hockey/no* ./Hockey_fights/Violence/\n",
        "! mv hockey/fi* ./Hockey_fights/Non-violence/"
      ],
      "metadata": {
        "id": "tIrzkYCx185z"
      },
      "execution_count": null,
      "outputs": []
    },
    {
      "cell_type": "markdown",
      "source": [],
      "metadata": {
        "id": "dvhGFhUXxj4H"
      }
    },
    {
      "cell_type": "code",
      "execution_count": null,
      "metadata": {
        "id": "7AbbTZQ2xbo0"
      },
      "outputs": [],
      "source": [
        "import cv2\n",
        "import os\n",
        "import numpy as np\n",
        "import tensorflow as tf\n",
        "from tensorflow.keras import Model, layers\n",
        "from random import shuffle\n",
        "from tqdm import tqdm\n",
        "from sklearn.model_selection import train_test_split\n",
        "from tensorflow import keras"
      ]
    },
    {
      "cell_type": "code",
      "execution_count": null,
      "metadata": {
        "id": "_wk5sBCjxbo3"
      },
      "outputs": [],
      "source": [
        "NUM_FRAME = 10\n",
        "IMG_SIZE = 100\n",
        "\n",
        "LR = 0.0001\n",
        "VIOLENCE_DIR = './Hockey_fights/Violence/'\n",
        "NON_VIOLENCE_DIR = './Hockey_fights/Non-violence/'\n"
      ]
    },
    {
      "source": [
        "Extracting Dataframes"
      ],
      "cell_type": "markdown",
      "metadata": {
        "id": "a4a1NbAlxbo4"
      }
    },
    {
      "cell_type": "code",
      "execution_count": null,
      "metadata": {
        "id": "oeLDt-0Pxbo6"
      },
      "outputs": [],
      "source": [
        "count = 0\n",
        "def extract_frames(folder):\n",
        "    count = 0\n",
        "    for files in os.listdir(folder):\n",
        "        cap = cv2.VideoCapture(os.path.join(folder, files))\n",
        "        sucess, image = cap.read()\n",
        "        sucess = True\n",
        "        while sucess:\n",
        "            sucess, image = cap.read()\n",
        "            cv2.imwrite(\"./Hockey_fights/Dataframes/\"+ str(count) + \".jpg\", image)\n",
        "\n",
        "            if cv2.waitKey(10) == 27:\n",
        "                break\n",
        "            count += 1"
      ]
    },
    {
      "cell_type": "code",
      "execution_count": null,
      "metadata": {
        "id": "VfGw_q5Mxbo7"
      },
      "outputs": [],
      "source": [
        "count = 0\n",
        "for files in os.listdir(VIOLENCE_DIR):\n",
        "    cap = cv2.VideoCapture(os.path.join(VIOLENCE_DIR, files))\n",
        "    sucess, image = cap.read()\n",
        "    #print(sucess)\n",
        "    sucess = True\n",
        "    while sucess:\n",
        "        sucess, image = cap.read()\n",
        "        if not sucess:\n",
        "            break\n",
        "        cv2.imwrite(\"./Hockey_fights/Dataframes/\"+ str(count) + \".jpg\", image)\n",
        "\n",
        "        if cv2.waitKey(10) == 27:\n",
        "            break\n",
        "        count += 1"
      ]
    },
    {
      "cell_type": "code",
      "execution_count": null,
      "metadata": {
        "id": "ozeGIYE0xbo-"
      },
      "outputs": [],
      "source": [
        "for files in os.listdir(NON_VIOLENCE_DIR):\n",
        "    cap = cv2.VideoCapture(os.path.join(NON_VIOLENCE_DIR, files))\n",
        "    sucess, image = cap.read()\n",
        "    #print(sucess)\n",
        "    sucess = True\n",
        "    while sucess:\n",
        "        sucess, image = cap.read()\n",
        "        if not sucess:\n",
        "            break\n",
        "        cv2.imwrite(\"./Hockey_fights/Dataframes/\"+ str(count) + \".jpg\", image)\n",
        "\n",
        "        if cv2.waitKey(10) == 27:\n",
        "            break\n",
        "        count += 1"
      ]
    },
    {
      "cell_type": "code",
      "execution_count": null,
      "metadata": {
        "colab": {
          "base_uri": "https://localhost:8080/"
        },
        "id": "Xi4PNmOJxbo_",
        "outputId": "031aa0a0-e44c-4e80-e95b-575f0a1eeaff"
      },
      "outputs": [
        {
          "output_type": "stream",
          "name": "stdout",
          "text": [
            "40056\n"
          ]
        }
      ],
      "source": [
        "print(count)"
      ]
    },
    {
      "cell_type": "code",
      "execution_count": null,
      "metadata": {
        "id": "vrn3BoBQxbpA"
      },
      "outputs": [],
      "source": [
        "def create_dataset():\n",
        "    dataset = []\n",
        "    image = []\n",
        "    limit = 0\n",
        "    c = 0\n",
        "\n",
        "    for file in tqdm(os.listdir('./Hockey_fights/Dataframes/')):\n",
        "        path = os.path.join('./Hockey_fights/Dataframes/', file)\n",
        "        img = cv2.resize(cv2.imread(path), (IMG_SIZE, IMG_SIZE))\n",
        "        image.append(np.array(img))\n",
        "        limit += 1\n",
        "        c += 1\n",
        "        if c == NUM_FRAME:\n",
        "            c = 0\n",
        "            if limit < 20057:\n",
        "                dataset.append(np.array([image, np.array([1, 0])], dtype=object))\n",
        "            elif limit >= 20056:\n",
        "                dataset.append(np.array([image, np.array([0, 1])], dtype=object))\n",
        "            image = []\n",
        "\n",
        "    shuffle(dataset)\n",
        "    np.save('dataset.npy', dataset)\n",
        "    return dataset"
      ]
    },
    {
      "cell_type": "code",
      "execution_count": null,
      "metadata": {
        "colab": {
          "base_uri": "https://localhost:8080/"
        },
        "id": "b0xG615fxbpC",
        "outputId": "69556605-c69a-4927-87ac-d4de49ef2ff0"
      },
      "outputs": [
        {
          "output_type": "stream",
          "name": "stderr",
          "text": [
            "100%|██████████| 40056/40056 [01:09<00:00, 572.59it/s]\n"
          ]
        }
      ],
      "source": [
        "data = create_dataset()"
      ]
    },
    {
      "cell_type": "code",
      "source": [
        "data"
      ],
      "metadata": {
        "id": "YxYKrHbQ5Mzf"
      },
      "execution_count": null,
      "outputs": []
    },
    {
      "cell_type": "code",
      "execution_count": null,
      "metadata": {
        "id": "oEr6e5uExbpD"
      },
      "outputs": [],
      "source": [
        "train = data[:-400]\n",
        "test = data[-400:]"
      ]
    },
    {
      "source": [
        "Creating the Model"
      ],
      "cell_type": "markdown",
      "metadata": {
        "id": "ZemF5rVoxbpE"
      }
    },
    {
      "cell_type": "code",
      "execution_count": null,
      "metadata": {
        "colab": {
          "base_uri": "https://localhost:8080/"
        },
        "id": "VFZEVHZSxbpF",
        "outputId": "4ba79ef3-4d6e-4364-ebb4-d0b68f7261f9"
      },
      "outputs": [
        {
          "output_type": "stream",
          "name": "stdout",
          "text": [
            "(98, 98, 64)\n",
            "(10, 49, 49, 64)\n",
            "(10, 47, 47, 64)\n",
            "(10, 23, 23, 64)\n",
            "(10, 10, 10, 64)\n",
            "(10, 6400)\n",
            "Model: \"model\"\n",
            "_________________________________________________________________\n",
            " Layer (type)                Output Shape              Param #   \n",
            "=================================================================\n",
            " input (InputLayer)          [(None, 10, 100, 100, 3   0         \n",
            "                             )]                                  \n",
            "                                                                 \n",
            " conv2d (Conv2D)             (None, 10, 100, 100, 64   1792      \n",
            "                             )                                   \n",
            "                                                                 \n",
            " conv2d_1 (Conv2D)           (None, 10, 98, 98, 64)    36928     \n",
            "                                                                 \n",
            " tf.__operators__.getitem_2  (10, 98, 98, 64)          0         \n",
            "  (SlicingOpLambda)                                              \n",
            "                                                                 \n",
            " max_pooling2d (MaxPooling2  (10, 49, 49, 64)          0         \n",
            " D)                                                              \n",
            "                                                                 \n",
            " conv2d_2 (Conv2D)           (10, 47, 47, 64)          36928     \n",
            "                                                                 \n",
            " max_pooling2d_1 (MaxPoolin  (10, 23, 23, 64)          0         \n",
            " g2D)                                                            \n",
            "                                                                 \n",
            " conv2d_3 (Conv2D)           (10, 21, 21, 64)          36928     \n",
            "                                                                 \n",
            " max_pooling2d_2 (MaxPoolin  (10, 10, 10, 64)          0         \n",
            " g2D)                                                            \n",
            "                                                                 \n",
            " flatten (Flatten)           (10, 6400)                0         \n",
            "                                                                 \n",
            " tf.reshape (TFOpLambda)     (1, 10, 6400)             0         \n",
            "                                                                 \n",
            " bidirectional (Bidirection  (1, 64)                   1646848   \n",
            " al)                                                             \n",
            "                                                                 \n",
            " dense (Dense)               (1, 64)                   4160      \n",
            "                                                                 \n",
            " dense_1 (Dense)             (1, 32)                   2080      \n",
            "                                                                 \n",
            " dense_2 (Dense)             (1, 1)                    33        \n",
            "                                                                 \n",
            "=================================================================\n",
            "Total params: 1765697 (6.74 MB)\n",
            "Trainable params: 1765697 (6.74 MB)\n",
            "Non-trainable params: 0 (0.00 Byte)\n",
            "_________________________________________________________________\n"
          ]
        }
      ],
      "source": [
        "from keras import backend as K\n",
        "import tensorflow as tf\n",
        "from tensorflow.keras.models import Sequential\n",
        "from tensorflow.keras.layers import Dense, TimeDistributed,Dropout, Activation, Flatten,Conv2D, MaxPooling2D,LSTM,Bidirectional, Reshape\n",
        "from tensorflow.keras.optimizers import Adam, SGD\n",
        "from tensorflow.keras.callbacks import TensorBoard\n",
        "from tensorflow.keras import Input\n",
        "\n",
        "inputs = Input(shape=[10, IMG_SIZE, IMG_SIZE, 3], name= \"input\")\n",
        "convrnn = Conv2D(64, (3, 3), activation='relu', padding = 'same')(inputs)\n",
        "convrnn = Conv2D(64, (3, 3), activation='relu')(convrnn)\n",
        "print(convrnn[0][0].shape)\n",
        "convrnn = MaxPooling2D((2,2))(convrnn[0])\n",
        "print(convrnn.shape)\n",
        "convrnn = Conv2D(64, (3, 3), activation='relu')(convrnn)\n",
        "print(convrnn.shape)\n",
        "convrnn = MaxPooling2D((2,2))(convrnn)\n",
        "print(convrnn.shape)\n",
        "convrnn = Conv2D(64, (3, 3), activation='relu')(convrnn)\n",
        "convrnn = MaxPooling2D((2,2))(convrnn)\n",
        "print(convrnn.shape)\n",
        "convrnn = Flatten()(convrnn)\n",
        "print(convrnn.shape)\n",
        "\n",
        "convrnn = tf.reshape(convrnn, (1, 10, 6400))\n",
        "# print(convrnn.shape)\n",
        "\n",
        "lstm_fw = LSTM(units=32)\n",
        "lstm_bw = LSTM(units=32, go_backwards=True)\n",
        "bi_lstm = Bidirectional(lstm_fw, backward_layer=lstm_bw)(convrnn)\n",
        "\n",
        "convrnn = Dense(64, activation= 'relu')(bi_lstm)\n",
        "convrnn = Dense(32, activation= 'relu')(convrnn)\n",
        "output = Dense(1, activation='sigmoid')(convrnn)\n",
        "\n",
        "model = tf.keras.Model(inputs = inputs, outputs = output)\n",
        "model.summary()"
      ]
    },
    {
      "cell_type": "code",
      "execution_count": null,
      "metadata": {
        "colab": {
          "base_uri": "https://localhost:8080/"
        },
        "id": "u1TrebGxxbpG",
        "outputId": "eb87780d-4e82-4af4-be35-439a965e0106"
      },
      "outputs": [
        {
          "output_type": "execute_result",
          "data": {
            "text/plain": [
              "2"
            ]
          },
          "metadata": {},
          "execution_count": 36
        }
      ],
      "source": [
        "len(train[0][1])"
      ]
    },
    {
      "cell_type": "code",
      "execution_count": null,
      "metadata": {
        "colab": {
          "base_uri": "https://localhost:8080/"
        },
        "id": "dDJgnk6mxbpH",
        "outputId": "9c12ea66-defe-4a30-fb48-9b17143756ae"
      },
      "outputs": [
        {
          "output_type": "stream",
          "name": "stdout",
          "text": [
            "Model: \"sequential\"\n",
            "_________________________________________________________________\n",
            " Layer (type)                Output Shape              Param #   \n",
            "=================================================================\n",
            " conv2d_4 (Conv2D)           (None, 10, 100, 100, 64   1792      \n",
            "                             )                                   \n",
            "                                                                 \n",
            " conv2d_5 (Conv2D)           (None, 10, 98, 98, 64)    36928     \n",
            "                                                                 \n",
            " max_pooling3d (MaxPooling3  (None, 10, 49, 49, 64)    0         \n",
            " D)                                                              \n",
            "                                                                 \n",
            " conv2d_6 (Conv2D)           (None, 10, 47, 47, 64)    36928     \n",
            "                                                                 \n",
            " max_pooling3d_1 (MaxPoolin  (None, 10, 23, 23, 64)    0         \n",
            " g3D)                                                            \n",
            "                                                                 \n",
            " conv2d_7 (Conv2D)           (None, 10, 21, 21, 64)    36928     \n",
            "                                                                 \n",
            " max_pooling3d_2 (MaxPoolin  (None, 10, 10, 10, 64)    0         \n",
            " g3D)                                                            \n",
            "                                                                 \n",
            " reshape (Reshape)           (None, 10, 6400)          0         \n",
            "                                                                 \n",
            " bidirectional_2 (Bidirecti  (None, 64)                1646848   \n",
            " onal)                                                           \n",
            "                                                                 \n",
            " dense_6 (Dense)             (None, 64)                4160      \n",
            "                                                                 \n",
            " dense_7 (Dense)             (None, 32)                2080      \n",
            "                                                                 \n",
            " dense_8 (Dense)             (None, 2)                 66        \n",
            "                                                                 \n",
            "=================================================================\n",
            "Total params: 1765730 (6.74 MB)\n",
            "Trainable params: 1765730 (6.74 MB)\n",
            "Non-trainable params: 0 (0.00 Byte)\n",
            "_________________________________________________________________\n"
          ]
        }
      ],
      "source": [
        "from tensorflow.keras.layers import LSTM, Bidirectional, Conv2D, Dense, Flatten, MaxPooling2D, TimeDistributed, Reshape, MaxPooling3D\n",
        "from tensorflow.keras.models import Sequential\n",
        "\n",
        "cnn = Sequential()\n",
        "cnn.add(Conv2D(64, (3, 3), activation='relu', input_shape=(10, IMG_SIZE, IMG_SIZE, 3), padding=\"same\"))\n",
        "cnn.add(Conv2D(64, (3, 3), activation='relu'))\n",
        "cnn.add(MaxPooling3D((1, 2,2)))\n",
        "cnn.add(Conv2D(64, (3, 3), activation='relu'))\n",
        "cnn.add(MaxPooling3D((1, 2,2)))\n",
        "cnn.add(Conv2D(64, (3, 3), activation='relu'))\n",
        "cnn.add(MaxPooling3D((1, 2,2)))\n",
        "#cnn.add(Flatten())\n",
        "cnn.add(Reshape((10, 6400)))\n",
        "\n",
        "#cnn.summary()\n",
        "\n",
        "lstm_fw = LSTM(units=32)\n",
        "lstm_bw = LSTM(units=32, go_backwards = True)\n",
        "model = Sequential()\n",
        "#model.add(TimeDistributed(cnn, input_shape=(1, 10, 10, 64)))\n",
        "model.add(Bidirectional(lstm_fw, backward_layer = lstm_bw))\n",
        "model.add(Dense(64, activation='relu'))\n",
        "model.add(Dense(32, activation='relu'))\n",
        "model.add(Dense(1, activation='sigmoid'))\n",
        "\n",
        "cnn.add(Bidirectional(lstm_fw, backward_layer = lstm_bw))\n",
        "cnn.add(Dense(64, activation='relu'))\n",
        "cnn.add(Dense(32, activation='relu'))\n",
        "cnn.add(Dense(2, activation='sigmoid'))\n",
        "\n",
        "cnn.summary()\n",
        "opt = keras.optimizers.Adam(learning_rate=LR)\n",
        "cnn.compile(loss='categorical_crossentropy',optimizer='SGD',metrics=['accuracy'])"
      ]
    },
    {
      "cell_type": "code",
      "execution_count": null,
      "metadata": {
        "id": "jIRKvdmDxbpH"
      },
      "outputs": [],
      "source": [
        "data = np.load('dataset.npy', allow_pickle=True)"
      ]
    },
    {
      "cell_type": "code",
      "execution_count": null,
      "metadata": {
        "id": "h-H7gUHpxbpI"
      },
      "outputs": [],
      "source": [
        "train, test = train_test_split(data, train_size= 0.9, shuffle=True)\n"
      ]
    },
    {
      "cell_type": "code",
      "execution_count": null,
      "metadata": {
        "colab": {
          "base_uri": "https://localhost:8080/"
        },
        "id": "3XrpSZHLxbpI",
        "outputId": "49c2c51c-0343-4994-aef0-7d9c7bb43905"
      },
      "outputs": [
        {
          "output_type": "execute_result",
          "data": {
            "text/plain": [
              "array([0, 1])"
            ]
          },
          "metadata": {},
          "execution_count": 10
        }
      ],
      "source": [
        "train[0][1]"
      ]
    },
    {
      "cell_type": "code",
      "execution_count": null,
      "metadata": {
        "id": "YnBChyarxbpJ"
      },
      "outputs": [],
      "source": [
        "X = np.array([i[0] for i in train]).reshape(-1, 10, IMG_SIZE, IMG_SIZE, 3)\n",
        "Y = np.array([i[1] for i in train])\n",
        "\n",
        "x_valid = np.array([i[0] for i in test]).reshape(-1, 10, IMG_SIZE, IMG_SIZE, 3)\n",
        "y_valid = np.array([i[1] for i in test])"
      ]
    },
    {
      "cell_type": "code",
      "execution_count": null,
      "metadata": {
        "id": "VKQ9efltxbpJ"
      },
      "outputs": [],
      "source": [
        "\n",
        "X = X.astype('float32')/255\n",
        "x_valid = x_valid.astype('float32')/255\n",
        "#Y = Y.astype('float32').reshape((-1, 1))\n",
        "#y_valid = y_valid.astype('float32').reshape((-1, 1))\n",
        "\n"
      ]
    },
    {
      "cell_type": "code",
      "execution_count": null,
      "metadata": {
        "colab": {
          "base_uri": "https://localhost:8080/"
        },
        "id": "W5vhPcYoxbpK",
        "outputId": "8ea0b9b4-6e30-4efc-a9c6-38a84678dd01"
      },
      "outputs": [
        {
          "output_type": "stream",
          "name": "stdout",
          "text": [
            "(3604, 2)\n",
            "(401, 2)\n",
            "(3604, 10, 100, 100, 3)\n",
            "(401, 10, 100, 100, 3)\n",
            "[0 1]\n"
          ]
        }
      ],
      "source": [
        "print(Y.shape)\n",
        "print(y_valid.shape)\n",
        "print(X.shape)\n",
        "print(x_valid.shape)\n",
        "\n",
        "print(y_valid[7])"
      ]
    },
    {
      "cell_type": "code",
      "execution_count": null,
      "metadata": {
        "colab": {
          "base_uri": "https://localhost:8080/"
        },
        "id": "ov5qAWdOxbpK",
        "outputId": "45aea0dd-42ca-44bc-f611-5c0b802df6ad"
      },
      "outputs": [
        {
          "output_type": "stream",
          "name": "stdout",
          "text": [
            "20 20\n"
          ]
        }
      ],
      "source": [
        "x_try = X[:20]\n",
        "y_try = Y[:20]\n",
        "print(len(x_try), len(y_try))"
      ]
    },
    {
      "cell_type": "code",
      "execution_count": null,
      "metadata": {
        "id": "Dr28vCf9xbpL"
      },
      "outputs": [],
      "source": [
        "cnn.fit(X, Y, epochs=10, validation_data=(x_valid,y_valid), batch_size=16, verbose=1)"
      ]
    },
    {
      "cell_type": "code",
      "execution_count": null,
      "metadata": {
        "id": "hwx9xQzExbpL"
      },
      "outputs": [],
      "source": [
        "cnn.save('CNN-BiLSTM.h5', overwrite=True, include_optimizer=True)"
      ]
    },
    {
      "cell_type": "code",
      "execution_count": null,
      "metadata": {
        "colab": {
          "base_uri": "https://localhost:8080/"
        },
        "id": "-iA6iCsRxbpM",
        "outputId": "87cc4778-3dfa-489e-a56b-0bf3f2587074"
      },
      "outputs": [
        {
          "output_type": "stream",
          "name": "stdout",
          "text": [
            "3.2G\tCNN-BiLSTM-Model\n",
            "1.2G\tdataset.npy\n",
            "164M\thockey\n",
            "1.3G\tHockey_fights\n",
            "55M\tsample_data\n"
          ]
        }
      ],
      "source": [
        "! du -sh *"
      ]
    }
  ]
}